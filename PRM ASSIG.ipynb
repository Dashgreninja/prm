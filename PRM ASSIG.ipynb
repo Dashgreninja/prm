{
 "cells": [
  {
   "cell_type": "code",
   "execution_count": 29,
   "metadata": {},
   "outputs": [
    {
     "name": "stdout",
     "output_type": "stream",
     "text": [
      "Sorted list of strings :  ['great', 'abc', 'hello', 'hiyo']\n"
     ]
    }
   ],
   "source": [
    "# Placement Readiness ModuleProblem Statement 1(Python)\n",
    "\n",
    "def sort_string(l):\n",
    "        n = len(l)\n",
    "        for i in range(n-1):\n",
    "            for j in range(i,n-1):\n",
    "                if ord(l[j][-2])>ord(l[j+1][-2]):\n",
    "                    l[j],l[j+1]=l[j+1],l[j]\n",
    "        return l\n",
    "n =int(input(\"Enter no. of elements : \"))\n",
    "lis=[]\n",
    "for i in range(1,n+1):\n",
    "    lis.append(input(f\"Enter String {i} : \"))\n",
    "\n",
    "print(\"Sorted list of strings : \",sort_string(lis))\n"
   ]
  },
  {
   "cell_type": "code",
   "execution_count": 48,
   "metadata": {},
   "outputs": [
    {
     "name": "stdout",
     "output_type": "stream",
     "text": [
      "\n",
      "Valid Triangle\n",
      "\n",
      "Valid Rectangle\n"
     ]
    }
   ],
   "source": [
    "# Placement Readiness ModuleProblem Statement 2(Python)\n",
    "\n",
    "def isTriangle(a, b, c): \n",
    "      \n",
    "    if (a + b <= c) or (a + c <= b) or (b + c <= a) :\n",
    "        return False\n",
    "    else:\n",
    "        return True     \n",
    "    \n",
    "def isRectangle(l1, b1, l2, b2):\n",
    "     \n",
    "    if (l1 == l2 and b1 == b2):\n",
    "        return True\n",
    "    else:\n",
    "        return False   \n",
    "  \n",
    "a,b,c = [int(i) for i in input(\" Enter Sides of the Triange : \").split()]\n",
    "l1,b1,l2,b2 = [int(i) for i in input(\" Enter Sides of the Rectangle : \").split()]\n",
    "\n",
    "if isTriangle(a, b, c):\n",
    "    print(\"\\nValid Triangle\") \n",
    "else:\n",
    "    print(\"\\nInvalid Triangle\")\n",
    "    \n",
    "if isRectangle(l1,b1,l2,b2):\n",
    "    print(\"\\nValid Rectangle\") \n",
    "else:\n",
    "    print(\"\\nInvalid Rectangle\")\n"
   ]
  }
 ],
 "metadata": {
  "kernelspec": {
   "display_name": "Python 3",
   "language": "python",
   "name": "python3"
  },
  "language_info": {
   "codemirror_mode": {
    "name": "ipython",
    "version": 3
   },
   "file_extension": ".py",
   "mimetype": "text/x-python",
   "name": "python",
   "nbconvert_exporter": "python",
   "pygments_lexer": "ipython3",
   "version": "3.11.2"
  },
  "orig_nbformat": 4
 },
 "nbformat": 4,
 "nbformat_minor": 2
}
